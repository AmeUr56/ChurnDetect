{
 "cells": [
  {
   "cell_type": "code",
   "execution_count": 192,
   "id": "68248441-1048-461c-aa25-0cb29f409b88",
   "metadata": {},
   "outputs": [],
   "source": [
    "import numpy as np\n",
    "import pandas as pd\n",
    "\n",
    "from prefect import task,flow\n",
    "from joblib import dump,load"
   ]
  },
  {
   "cell_type": "markdown",
   "id": "82c1285f-6bc9-43de-90e6-38269b8e6d94",
   "metadata": {
    "jp-MarkdownHeadingCollapsed": true
   },
   "source": [
    "## Load Processed Train Data"
   ]
  },
  {
   "cell_type": "code",
   "execution_count": 178,
   "id": "77dee9c8-abe6-44c1-9898-3b9d74507809",
   "metadata": {},
   "outputs": [
    {
     "name": "stdout",
     "output_type": "stream",
     "text": [
      "<class 'pandas.core.frame.DataFrame'>\n",
      "RangeIndex: 5714 entries, 0 to 5713\n",
      "Data columns (total 21 columns):\n",
      " #   Column            Non-Null Count  Dtype  \n",
      "---  ------            --------------  -----  \n",
      " 0   customerID        5714 non-null   object \n",
      " 1   gender            5714 non-null   object \n",
      " 2   SeniorCitizen     5714 non-null   object \n",
      " 3   Partner           5714 non-null   object \n",
      " 4   Dependents        5714 non-null   object \n",
      " 5   tenure            5714 non-null   int64  \n",
      " 6   PhoneService      5714 non-null   object \n",
      " 7   MultipleLines     5714 non-null   object \n",
      " 8   InternetService   5714 non-null   object \n",
      " 9   OnlineSecurity    5714 non-null   object \n",
      " 10  OnlineBackup      5714 non-null   object \n",
      " 11  DeviceProtection  5714 non-null   object \n",
      " 12  TechSupport       5714 non-null   object \n",
      " 13  StreamingTV       5714 non-null   object \n",
      " 14  StreamingMovies   5714 non-null   object \n",
      " 15  Contract          5714 non-null   object \n",
      " 16  PaperlessBilling  5714 non-null   object \n",
      " 17  PaymentMethod     5714 non-null   object \n",
      " 18  MonthlyCharges    5714 non-null   float64\n",
      " 19  TotalCharges      5707 non-null   float64\n",
      " 20  Churn             5714 non-null   object \n",
      "dtypes: float64(2), int64(1), object(18)\n",
      "memory usage: 937.6+ KB\n"
     ]
    }
   ],
   "source": [
    "data = pd.read_csv(\"../data/train_processed_data.csv\")\n",
    "data.drop(columns=[\"Unnamed: 0\"],inplace=True)\n",
    "data.info()"
   ]
  },
  {
   "cell_type": "code",
   "execution_count": 180,
   "id": "e4d6cfa1-d4ff-46e8-9a09-7f1eee524ffd",
   "metadata": {},
   "outputs": [],
   "source": [
    "# Build Load Task\n",
    "@task\n",
    "def load_data(data):\n",
    "    data = pd.DataFrame(data,columns=['gender', 'SeniorCitizen', 'Partner', 'Dependents', 'tenure',\n",
    "       'PhoneService', 'MultipleLines', 'InternetService', 'OnlineSecurity',\n",
    "       'OnlineBackup', 'DeviceProtection', 'TechSupport', 'StreamingTV',\n",
    "       'StreamingMovies', 'Contract', 'PaperlessBilling', 'PaymentMethod',\n",
    "       'MonthlyCharges', 'TotalCharges', 'Churn'])\n",
    "    return data"
   ]
  },
  {
   "cell_type": "markdown",
   "id": "fe903e5f-9146-478b-95ab-dc2d705b2430",
   "metadata": {
    "jp-MarkdownHeadingCollapsed": true
   },
   "source": [
    "## Feature Selection"
   ]
  },
  {
   "cell_type": "markdown",
   "id": "08601001-b67d-4da3-be43-e7a73fe0bdc8",
   "metadata": {},
   "source": [
    "**CustomerID** is an identity feature with no benefit for the task.<br>\n",
    "So it will get dropped."
   ]
  },
  {
   "cell_type": "code",
   "execution_count": 181,
   "id": "a38a5c12-d88c-430e-9f21-076bf1467fe5",
   "metadata": {},
   "outputs": [],
   "source": [
    "data.drop(columns=[\"customerID\"],inplace=True)"
   ]
  },
  {
   "cell_type": "markdown",
   "id": "3906d791-d904-4111-be7a-3740959b29c0",
   "metadata": {
    "jp-MarkdownHeadingCollapsed": true
   },
   "source": [
    "## Feature Cleaning"
   ]
  },
  {
   "cell_type": "code",
   "execution_count": 182,
   "id": "a589ac5f-b432-4aa6-9c67-f08a4f48bb4e",
   "metadata": {},
   "outputs": [
    {
     "data": {
      "text/plain": [
       "gender              0\n",
       "SeniorCitizen       0\n",
       "Partner             0\n",
       "Dependents          0\n",
       "tenure              0\n",
       "PhoneService        0\n",
       "MultipleLines       0\n",
       "InternetService     0\n",
       "OnlineSecurity      0\n",
       "OnlineBackup        0\n",
       "DeviceProtection    0\n",
       "TechSupport         0\n",
       "StreamingTV         0\n",
       "StreamingMovies     0\n",
       "Contract            0\n",
       "PaperlessBilling    0\n",
       "PaymentMethod       0\n",
       "MonthlyCharges      0\n",
       "TotalCharges        7\n",
       "Churn               0\n",
       "dtype: int64"
      ]
     },
     "execution_count": 182,
     "metadata": {},
     "output_type": "execute_result"
    }
   ],
   "source": [
    "data.isnull().sum()"
   ]
  },
  {
   "cell_type": "markdown",
   "id": "16cfa597-f39c-4696-a53e-febb59ad93aa",
   "metadata": {},
   "source": [
    "We see that **Total Charges** has\n",
    "7 missing values."
   ]
  },
  {
   "cell_type": "code",
   "execution_count": 183,
   "id": "02c34b7c-a31d-497c-9add-74f738e32df3",
   "metadata": {},
   "outputs": [],
   "source": [
    "from sklearn.impute import SimpleImputer"
   ]
  },
  {
   "cell_type": "code",
   "execution_count": 193,
   "id": "1ca41335-5630-4e0f-adec-2557e0fddbf2",
   "metadata": {},
   "outputs": [
    {
     "data": {
      "text/plain": [
       "['../pipelines/mode_imputer.joblib']"
      ]
     },
     "execution_count": 193,
     "metadata": {},
     "output_type": "execute_result"
    }
   ],
   "source": [
    "# Fill with Mode\n",
    "mode_features = [\"gender\",\"SeniorCitizen\",\"Partner\",\"Dependents\",\"PhoneService\",\"MultipleLines\",\"InternetService\",\"OnlineSecurity\",\"OnlineBackup\",\"DeviceProtection\",\"TechSupport\",\"StreamingTV\",\"StreamingMovies\",\"Contract\",\"PaperlessBilling\",\"PaymentMethod\"]\n",
    "mode_imputer = SimpleImputer(strategy=\"most_frequent\")\n",
    "mode_imputer.fit(data[mode_features])\n",
    "\n",
    "dump(mode_imputer,\"../pipelines/mode_imputer.joblib\")"
   ]
  },
  {
   "cell_type": "code",
   "execution_count": 194,
   "id": "0e983680-20c4-4b0b-bd59-c690c185835d",
   "metadata": {},
   "outputs": [
    {
     "data": {
      "text/plain": [
       "['../pipelines/mean_imputer.joblib']"
      ]
     },
     "execution_count": 194,
     "metadata": {},
     "output_type": "execute_result"
    }
   ],
   "source": [
    "# Fill with Mean\n",
    "mean_features = [\"tenure\",\"MonthlyCharges\",\"TotalCharges\"]\n",
    "mean_imputer = SimpleImputer(strategy=\"mean\")\n",
    "mean_imputer.fit(data[mean_features])\n",
    "\n",
    "dump(mean_imputer,\"../pipelines/mean_imputer.joblib\")"
   ]
  },
  {
   "cell_type": "code",
   "execution_count": 195,
   "id": "79751b0d-b850-4115-be3d-e3ac66f32ac9",
   "metadata": {},
   "outputs": [],
   "source": [
    "# Build The Clean Task\n",
    "@task\n",
    "def clean_data(org_data):\n",
    "    data = org_data.copy()\n",
    "    mode_features = [\"gender\",\"SeniorCitizen\",\"Partner\",\"Dependents\",\"PhoneService\",\"MultipleLines\",\"InternetService\",\"OnlineSecurity\",\"OnlineBackup\",\"DeviceProtection\",\"TechSupport\",\"StreamingTV\",\"StreamingMovies\",\"Contract\",\"PaperlessBilling\",\"PaymentMethod\"]\n",
    "    mean_features = [\"tenure\",\"MonthlyCharges\",\"TotalCharges\"]\n",
    "\n",
    "    mode_cleaned_data = pd.DataFrame(mode_imputer.transform(data[mode_features]),columns=mode_features)\n",
    "    mean_cleaned_data = pd.DataFrame(mean_imputer.transform(data[mean_features]),columns=mean_features)\n",
    "\n",
    "    return pd.concat([mode_cleaned_data,mean_cleaned_data],axis=1)"
   ]
  },
  {
   "cell_type": "markdown",
   "id": "9ff9d53d-38c5-4a0a-9161-b14b89b8e3ea",
   "metadata": {
    "jp-MarkdownHeadingCollapsed": true
   },
   "source": [
    "## Feature Engineering"
   ]
  },
  {
   "cell_type": "markdown",
   "id": "8f4a71a5-1e67-4507-a92c-2d7df2e29134",
   "metadata": {},
   "source": [
    "Create **new features** from the **existing ones**."
   ]
  },
  {
   "cell_type": "code",
   "execution_count": 196,
   "id": "475eb651-4749-4bf4-807a-a792e032a3f9",
   "metadata": {},
   "outputs": [],
   "source": [
    "# Build The Feature Engineering Task\n",
    "@task\n",
    "def feature_engineering(org_data):\n",
    "    if isinstance(org_data,pd.DataFrame):\n",
    "        data = org_data.copy()\n",
    "    else:\n",
    "        data = pd.DataFrame(org_data,columns=['gender', 'SeniorCitizen', 'Partner', 'Dependents', 'tenure',\n",
    "       'PhoneService', 'MultipleLines', 'InternetService', 'OnlineSecurity',\n",
    "       'OnlineBackup', 'DeviceProtection', 'TechSupport', 'StreamingTV',\n",
    "       'StreamingMovies', 'Contract', 'PaperlessBilling', 'PaymentMethod',\n",
    "       'MonthlyCharges', 'TotalCharges', 'Churn'])\n",
    "        \n",
    "    data['TenureCategory'] = pd.cut(data['tenure'], bins=[-1,3,12,np.inf],labels=[\"Recent\", \"Established\", \"Loyal\"]) \n",
    "    data['Tenure_X_MonthlyCharges'] = data['tenure'] * data['MonthlyCharges']\n",
    "    data['HighSpender'] = data['TotalCharges'].apply(lambda x: True if x > 5000 else False)\n",
    "    data['MonthlyChargesRatio'] = np.where(data['TotalCharges']!=0,data['MonthlyCharges'] / data['TotalCharges'],0)\n",
    "    data['SqrtTotalCharges'] = data['TotalCharges'].apply(np.sqrt)\n",
    "    data['SqrtMonthlyCharges'] = data['MonthlyCharges'].apply(np.sqrt)\n",
    "    data['AutomaticPayment'] = data['PaymentMethod'].apply(lambda x: True if \"automatic\" in x else False)\n",
    "    data['AllServicesActivated'] =  (data['OnlineSecurity'] == \"Yes\") & (data['OnlineBackup'] == \"Yes\") & \\\n",
    "                                   (data['DeviceProtection'] == \"Yes\") & (data['TechSupport'] == \"Yes\")\n",
    "    data['TeleServicesActivated'] = (data['PhoneService'] == \"Yes\") & (data['MultipleLines'] == \"Yes\") & \\\n",
    "                                    (data['InternetService'] == \"Yes\")\n",
    "    data['Connected'] = (data['Partner'] == \"Yes\") & (data['Dependents'] == \"Yes\")\n",
    "    \n",
    "    return data"
   ]
  },
  {
   "cell_type": "markdown",
   "id": "6ae4a46d-a9c4-45f4-b6fc-27692a6d0f89",
   "metadata": {
    "jp-MarkdownHeadingCollapsed": true
   },
   "source": [
    "## Numerical Feature Scaling"
   ]
  },
  {
   "cell_type": "code",
   "execution_count": 197,
   "id": "30562032-89d6-4638-a3f3-77b9db88e52d",
   "metadata": {},
   "outputs": [],
   "source": [
    "from sklearn.preprocessing import StandardScaler"
   ]
  },
  {
   "cell_type": "code",
   "execution_count": 198,
   "id": "61ecb36c-dbcf-4909-b380-f92798caac0a",
   "metadata": {},
   "outputs": [
    {
     "data": {
      "text/plain": [
       "['../pipelines/scaler.joblib']"
      ]
     },
     "execution_count": 198,
     "metadata": {},
     "output_type": "execute_result"
    }
   ],
   "source": [
    "scaler = StandardScaler()\n",
    "scaler.fit(processed_data[[\"tenure\",\"MonthlyCharges\",\"TotalCharges\",\"MonthlyChargesRatio\",\"Tenure_X_MonthlyCharges\",\"SqrtTotalCharges\",\"SqrtMonthlyCharges\"]])\n",
    "\n",
    "dump(scaler,\"../pipelines/scaler.joblib\")"
   ]
  },
  {
   "cell_type": "code",
   "execution_count": 199,
   "id": "2f42aa27-d301-42b2-8f76-1ba1fbecae97",
   "metadata": {},
   "outputs": [],
   "source": [
    "# Build The Scaling Task\n",
    "num_features = [\"tenure\",\"MonthlyCharges\",\"TotalCharges\",\"MonthlyChargesRatio\",\"Tenure_X_MonthlyCharges\",\"SqrtTotalCharges\",\"SqrtMonthlyCharges\"]\n",
    "\n",
    "@task\n",
    "def scaling_data(data):\n",
    "    data[num_features] = scaler.transform(data[num_features])\n",
    "\n",
    "    return data"
   ]
  },
  {
   "cell_type": "markdown",
   "id": "6c4ecbc9-b6a4-4426-b3ab-8136be29f824",
   "metadata": {
    "jp-MarkdownHeadingCollapsed": true
   },
   "source": [
    "## Categorical Feature Encoding"
   ]
  },
  {
   "cell_type": "code",
   "execution_count": 200,
   "id": "ca29f360-e043-4a5d-829d-dbc63bdb3cad",
   "metadata": {},
   "outputs": [],
   "source": [
    "from sklearn.preprocessing import OrdinalEncoder,OneHotEncoder"
   ]
  },
  {
   "cell_type": "code",
   "execution_count": 201,
   "id": "8a5af492-518c-46e0-a1b4-c52483691d93",
   "metadata": {},
   "outputs": [
    {
     "data": {
      "text/plain": [
       "['../pipelines/ord_enc.joblib']"
      ]
     },
     "execution_count": 201,
     "metadata": {},
     "output_type": "execute_result"
    }
   ],
   "source": [
    "ordinal_features = [\"SeniorCitizen\",\"Partner\",\"Dependents\",\"PhoneService\",\"MultipleLines\",\"InternetService\",\"OnlineSecurity\",\"OnlineBackup\",\"DeviceProtection\",\"TechSupport\",\"StreamingTV\",\"StreamingMovies\",\"Contract\",\"PaperlessBilling\",\"TenureCategory\",\"HighSpender\",\"AutomaticPayment\",\"AllServicesActivated\",\"TeleServicesActivated\",\"Connected\"]\n",
    "\n",
    "binary = [False,True]\n",
    "binary_yes_no = [\"No\",\"Yes\"]\n",
    "multi = [\"No internet service\",\"No\",\"Yes\"]\n",
    "custom_categories = [\n",
    "    binary_yes_no,\n",
    "    binary_yes_no,\n",
    "    binary_yes_no,\n",
    "    binary_yes_no,\n",
    "    binary_yes_no,\n",
    "    [\"No\",\"DSL\",\"Fiber optic\"],\n",
    "    multi,\n",
    "    multi,\n",
    "    multi,\n",
    "    multi,\n",
    "    multi,\n",
    "    multi,\n",
    "    [\"Month-to-month\",\"One year\",\"Two year\"],\n",
    "    binary_yes_no,\n",
    "    [\"Recent\", \"Established\", \"Loyal\"],\n",
    "    binary,\n",
    "    binary,\n",
    "    binary,\n",
    "    binary,\n",
    "    binary,\n",
    "]\n",
    "ord_enc = OrdinalEncoder(categories=custom_categories)\n",
    "ord_enc.fit(processed_data[ordinal_features])\n",
    "\n",
    "dump(ord_enc,\"../pipelines/ord_enc.joblib\")"
   ]
  },
  {
   "cell_type": "code",
   "execution_count": 202,
   "id": "bc5d1e24-1e38-400a-9292-2847fca32ade",
   "metadata": {},
   "outputs": [
    {
     "data": {
      "text/plain": [
       "['../pipelines/one_hot_enc.joblib']"
      ]
     },
     "execution_count": 202,
     "metadata": {},
     "output_type": "execute_result"
    }
   ],
   "source": [
    "nominal_features = [\"gender\",\"PaymentMethod\"]\n",
    "one_hot_enc = OneHotEncoder(sparse_output=False)\n",
    "one_hot_enc.fit(processed_data[nominal_features])\n",
    "\n",
    "dump(one_hot_enc,\"../pipelines/one_hot_enc.joblib\")"
   ]
  },
  {
   "cell_type": "code",
   "execution_count": 203,
   "id": "e73e7a42-7402-4861-96d5-09f6bb2233e7",
   "metadata": {},
   "outputs": [],
   "source": [
    "# Build The Encoding Task\n",
    "@task\n",
    "def encoding_data(org_data):\n",
    "    data = org_data.copy()\n",
    "    ordinal_features = [\"SeniorCitizen\",\"Partner\",\"Dependents\",\"PhoneService\",\"MultipleLines\",\"InternetService\",\"OnlineSecurity\",\"OnlineBackup\",\"DeviceProtection\",\"TechSupport\",\"StreamingTV\",\"StreamingMovies\",\"Contract\",\"PaperlessBilling\",\"TenureCategory\",\"HighSpender\",\"AutomaticPayment\",\"AllServicesActivated\",\"TeleServicesActivated\",\"Connected\"]\n",
    "    nominal_features = [\"gender\",\"PaymentMethod\"]\n",
    "\n",
    "    data[ordinal_features] = ord_enc.transform(data[ordinal_features])\n",
    "    \n",
    "    one_hot_encoded_data = one_hot_enc.transform(data[nominal_features])\n",
    "    one_hot_encoded_data_columns = one_hot_enc.get_feature_names_out(input_features=data[nominal_features].columns)\n",
    "    one_hot_data = pd.DataFrame(one_hot_encoded_data,columns=one_hot_encoded_data_columns)\n",
    "    \n",
    "    return pd.concat([data,one_hot_data],axis=1).drop(nominal_features,axis=1)"
   ]
  },
  {
   "cell_type": "markdown",
   "id": "5921dbe9-8fcf-4d63-8f51-965df22d9f2d",
   "metadata": {},
   "source": [
    "## Build the Data Pipeline"
   ]
  },
  {
   "cell_type": "code",
   "execution_count": 207,
   "id": "4eefbbd3-f7ff-43ef-b2b1-509619bf5ff4",
   "metadata": {},
   "outputs": [],
   "source": [
    "@flow(name=\"Pipeline\")\n",
    "def pipeline(data):\n",
    "    processed_data = load_data(data)\n",
    "    processed_data = clean_data(processed_data)\n",
    "    processed_data = feature_engineering(processed_data)\n",
    "    processed_data = scaling_data(processed_data)\n",
    "    processed_data = encoding_data(processed_data)\n",
    "    return processed_data"
   ]
  },
  {
   "cell_type": "code",
   "execution_count": null,
   "id": "26991109-a24c-4255-bf0c-369249a42265",
   "metadata": {},
   "outputs": [],
   "source": []
  }
 ],
 "metadata": {
  "kernelspec": {
   "display_name": "Python 3 (ipykernel)",
   "language": "python",
   "name": "python3"
  },
  "language_info": {
   "codemirror_mode": {
    "name": "ipython",
    "version": 3
   },
   "file_extension": ".py",
   "mimetype": "text/x-python",
   "name": "python",
   "nbconvert_exporter": "python",
   "pygments_lexer": "ipython3",
   "version": "3.11.7"
  }
 },
 "nbformat": 4,
 "nbformat_minor": 5
}
