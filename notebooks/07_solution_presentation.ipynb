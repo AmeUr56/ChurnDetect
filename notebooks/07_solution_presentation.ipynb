{
 "cells": [
  {
   "cell_type": "markdown",
   "metadata": {},
   "source": [
    "# 07 Solution Presentation"
   ]
  },
  {
   "cell_type": "markdown",
   "metadata": {
    "vscode": {
     "languageId": "plaintext"
    }
   },
   "source": [
    "- **1. Problem Framing:** Defined the business objective, how our solution will be used and performance measurement and the minimum."
   ]
  },
  {
   "cell_type": "markdown",
   "metadata": {},
   "source": [
    "- **2. Data Collection:** Listed data and how much we need, check legal obligation and authorization and we load and sample the data. "
   ]
  },
  {
   "cell_type": "markdown",
   "metadata": {},
   "source": [
    "- **3. Data Exploration:** Explored basic infos about the data and Advanced Analysis(Univariate,Bivariate,Multivariate), Outliers Detection, Correlations and Time Series analysis, ..."
   ]
  },
  {
   "cell_type": "markdown",
   "metadata": {},
   "source": [
    "- **4. Data Preparation:** With **Prefect**, we performs cleaning data, feature engineering, scaling numerical features and transforming categorical ones as tasks, and we created **Data Flow** and store it for deployment."
   ]
  },
  {
   "cell_type": "markdown",
   "metadata": {},
   "source": [
    "- **5. Shortlist Promising Models:** With the assumptions from the previous sections, and with **AutoML** with **PyCaret** we automated this process completely. "
   ]
  },
  {
   "cell_type": "markdown",
   "metadata": {},
   "source": [
    "- **6. Fine-Tuning the System:** With **AutoML** with **PyCaret** we fine-tuned the selected models form previous section and then using ensemble learning methods (soft voting, stacking) so we choose the voting one, then check its generalization using the test set."
   ]
  }
 ],
 "metadata": {
  "kernelspec": {
   "display_name": "",
   "name": ""
  },
  "language_info": {
   "name": "python"
  }
 },
 "nbformat": 4,
 "nbformat_minor": 4
}
