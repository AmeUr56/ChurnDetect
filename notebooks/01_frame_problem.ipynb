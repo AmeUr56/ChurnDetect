{
 "cells": [
  {
   "cell_type": "markdown",
   "metadata": {},
   "source": [
    "## Objective in business terms"
   ]
  },
  {
   "cell_type": "markdown",
   "metadata": {},
   "source": [
    "The goal is to predict which customers might leave so the company can take steps to keep them. This helps:\n",
    "- **Save money**.\n",
    "- **Increase revenue**.\n",
    "- **Keep customers happy**."
   ]
  },
  {
   "cell_type": "markdown",
   "metadata": {
    "vscode": {
     "languageId": "plaintext"
    }
   },
   "source": [
    "## How Will the Solution Be Used?"
   ]
  },
  {
   "cell_type": "markdown",
   "metadata": {},
   "source": [
    "The solution will be integrated into the company's **customer management system** to predict **churn probability** for each customer."
   ]
  },
  {
   "cell_type": "markdown",
   "metadata": {},
   "source": [
    "## Current Solutions/Workarounds (if any)"
   ]
  },
  {
   "cell_type": "markdown",
   "metadata": {},
   "source": [
    "- **Customer Surveys**: Reactive and limited insights.\n",
    "- **Manual Analysis**: Time-consuming and error-prone.\n",
    "- **Rule-Based Systems**: Simple but lacks hidden pattern detection."
   ]
  },
  {
   "cell_type": "markdown",
   "metadata": {
    "vscode": {
     "languageId": "plaintext"
    }
   },
   "source": [
    "## Framing the Problem"
   ]
  },
  {
   "cell_type": "markdown",
   "metadata": {},
   "source": [
    "- **Supervised Learning**: Using labeled data to classify customers as likely to churn or not churn.\n",
    "- **Offline Learning**: Train the model on historical customer data, then deploy it for future predictions.\n",
    "- **Offline Inference**: Make churn predictions in batches, not in real-time, based on customer data."
   ]
  },
  {
   "cell_type": "markdown",
   "metadata": {},
   "source": [
    "## Measuring Performance"
   ]
  },
  {
   "cell_type": "markdown",
   "metadata": {},
   "source": [
    "- **Accuracy**: The proportion of correct predictions (churn vs. no churn) out of all predictions.\n",
    "- **Precision**: The proportion of true positive churn predictions out of all predicted churns.\n",
    "- **Recall**: The proportion of actual churns correctly identified by the model.\n",
    "- **F1-Score**: The harmonic mean of precision and recall, balancing both metrics.\n",
    "- **AUC-ROC**: Measures the model's ability to distinguish between churn and non-churn customers, with a higher AUC indicating better performance."
   ]
  },
  {
   "cell_type": "markdown",
   "metadata": {},
   "source": [
    "## Performace Measures alignment with BusiBojective"
   ]
  },
  {
   "cell_type": "markdown",
   "metadata": {},
   "source": [
    "Yes, the performance measures are aligned with the business objective.\n",
    "\n",
    "- **Precision** helps minimize false positives (predicting churn when the customer is actually not likely to churn), which ensures the business doesn't waste resources on customers who aren't at risk.\n",
    "- **Recall** ensures the model identifies as many true churners as possible, helping the business focus on retaining customers who are most likely to leave.\n",
    "- **F1-Score** balances precision and recall, providing an overall performance measure that reflects both the accuracy and the comprehensiveness of churn prediction.\n",
    "- **AUC-ROC** evaluates how well the model distinguishes between churn and non-churn, which is crucial for making data-driven retention decisions."
   ]
  },
  {
   "cell_type": "markdown",
   "metadata": {},
   "source": [
    "## Minimum Performace to reach Business Objective"
   ]
  },
  {
   "cell_type": "markdown",
   "metadata": {},
   "source": [
    "- **Precision**: Around 65%, minimizing false positives and preventing unnecessary retention efforts.\n",
    "- **Recall**: At least 70%, ensuring most churners are identified.\n",
    "- **F1-Score**: 65% or higher, balancing precision and recall to ensure both accuracy and coverage in churn predictions.\n",
    "- **AUC-ROC**: Above 70%, indicating the model’s strong ability to distinguish between churn and non-churn customers."
   ]
  },
  {
   "cell_type": "markdown",
   "metadata": {},
   "source": [
    "## Is human expertise available?"
   ]
  },
  {
   "cell_type": "markdown",
   "metadata": {},
   "source": [
    "Yes, domain experts for **customer behavior** insights and data labeling."
   ]
  },
  {
   "cell_type": "markdown",
   "metadata": {},
   "source": [
    "- **Data Collection**: Gather historical customer data, including demographics, usage patterns, and churn history.\n",
    "- **Feature Selection**: Identify key factors that could influence customer churn, like service usage, customer support interactions, and payment history.\n",
    "- **Segmentation**: Manually segment customers into groups based on their risk of churn, such as high-risk and low-risk.\n",
    "- **Rule-based Decision Making**: Create simple rules based on historical patterns to identify potential churners, such as customers who stop using the service or have payment issues.\n",
    "- **Monitor and Evaluate**: Regularly check the churn rates and analyze the effectiveness of manual rules by comparing predicted churn with actual churn."
   ]
  }
 ],
 "metadata": {
  "language_info": {
   "name": "python"
  }
 },
 "nbformat": 4,
 "nbformat_minor": 2
}
